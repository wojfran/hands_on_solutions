{
 "cells": [
  {
   "cell_type": "code",
   "execution_count": 27,
   "metadata": {},
   "outputs": [],
   "source": [
    "import tensorflow as tf \n",
    "from tensorflow import keras\n",
    "import numpy as np\n",
    "import matplotlib.pyplot as plt\n",
    "from sklearn.model_selection import train_test_split\n",
    "from sklearn.discriminant_analysis import StandardScaler"
   ]
  },
  {
   "cell_type": "code",
   "execution_count": 28,
   "metadata": {},
   "outputs": [],
   "source": [
    "fashion_mnist = keras.datasets.fashion_mnist\n",
    "\n",
    "(train_images, train_labels), (test_images, test_labels) = fashion_mnist.load_data()\n",
    "\n",
    "scaler = StandardScaler()\n",
    "\n",
    "train_images = train_images.reshape(train_images.shape[0], -1)\n",
    "test_images = test_images.reshape(test_images.shape[0], -1)\n",
    "\n",
    "train_images = scaler.fit_transform(train_images)\n",
    "test_images = scaler.transform(test_images)\n",
    "\n",
    "# train_images = train_images.reshape(train_images.shape[0], 28, 28)\n",
    "# test_images = test_images.reshape(test_images.shape[0], 28, 28)\n",
    "\n",
    "train_labels = keras.utils.to_categorical(train_labels, num_classes=10)\n",
    "test_labels = keras.utils.to_categorical(test_labels, num_classes=10)\n",
    "\n",
    "train_images = train_images / 255.0\n",
    "test_images = test_images / 255.0\n",
    "\n",
    "train_images, val_images, train_labels, val_labels = train_test_split(train_images, train_labels, test_size=0.2, random_state=42)"
   ]
  },
  {
   "cell_type": "code",
   "execution_count": 29,
   "metadata": {},
   "outputs": [
    {
     "name": "stderr",
     "output_type": "stream",
     "text": [
      "c:\\programming\\ml\\my_env\\lib\\site-packages\\keras\\src\\layers\\core\\input_layer.py:26: UserWarning: Argument `input_shape` is deprecated. Use `shape` instead.\n",
      "  warnings.warn(\n"
     ]
    },
    {
     "name": "stdout",
     "output_type": "stream",
     "text": [
      "Epoch 1/5\n",
      "1500/1500 - loss: 1.7506 - categorical_accuracy: 0.4437\n",
      "Validation loss: 1.1560 - Validation accuracy: 0.5746\n",
      "Epoch 2/5\n",
      "1500/1500 - loss: 1.0093 - categorical_accuracy: 0.6303\n",
      "Validation loss: 0.9434 - Validation accuracy: 0.6477\n",
      "Epoch 3/5\n",
      "1500/1500 - loss: 0.8262 - categorical_accuracy: 0.6934\n",
      "Validation loss: 0.7547 - Validation accuracy: 0.7306\n",
      "Epoch 4/5\n",
      "1500/1500 - loss: 0.7461 - categorical_accuracy: 0.7210\n",
      "Validation loss: 0.6843 - Validation accuracy: 0.7491\n",
      "Epoch 5/5\n",
      "1500/1500 - loss: 0.7114 - categorical_accuracy: 0.7333\n",
      "Validation loss: 0.8469 - Validation accuracy: 0.6718\n"
     ]
    }
   ],
   "source": [
    "model = keras.models.Sequential([\n",
    "    keras.layers.InputLayer(shape=(784,)),\n",
    "    keras.layers.Dense(300, activation=\"elu\", kernel_initializer=\"he_normal\"), # layer 1\n",
    "    keras.layers.Dense(100, activation=\"elu\", kernel_initializer=\"he_normal\"), # layer 2\n",
    "    keras.layers.Dense(50, activation=\"elu\", kernel_initializer=\"he_normal\"), # layer 3\n",
    "    keras.layers.Dense(10, activation=\"softmax\") # layer 4\n",
    "])\n",
    "\n",
    "def random_batch(X, y, batch_size=32):\n",
    "    idx = np.random.randint(len(X), size=batch_size)\n",
    "    return X[idx], y[idx]\n",
    "\n",
    "def print_status_bar(iteration, total, loss, metrics=None):\n",
    "    metrics = \" - \".join([\"{}: {:.4f}\".format(m.name, m.result()) for m in [loss] + (metrics or [])])\n",
    "    end = \"\" if iteration < total else \"\\n\"\n",
    "    print(\"\\r{}/{} - \".format(iteration, total) + metrics, end=end)\n",
    "\n",
    "\n",
    "n_epochs = 5\n",
    "batch_size = 32\n",
    "n_steps = len(train_images) // batch_size\n",
    "optimizer_upper = keras.optimizers.Adam(learning_rate=0.001)\n",
    "optimizer_lower = keras.optimizers.SGD(learning_rate=0.01)\n",
    "loss_fn = keras.losses.categorical_crossentropy\n",
    "mean_loss = keras.metrics.Mean()\n",
    "mean_loss.name = \"loss\"\n",
    "mean_metrics = keras.metrics.Mean()\n",
    "metrics = [keras.metrics.CategoricalAccuracy()]\n",
    "\n",
    "for epoch in range(1, n_epochs + 1):\n",
    "    print(\"Epoch {}/{}\".format(epoch, n_epochs))\n",
    "    for step in range(1, n_steps + 1):\n",
    "        X_batch, y_batch = random_batch(train_images, train_labels)\n",
    "        with tf.GradientTape() as tape:\n",
    "            y_pred = model(X_batch, training=True)\n",
    "            main_loss = tf.reduce_mean(loss_fn(y_batch, y_pred))\n",
    "        loss = tf.add_n([main_loss] + model.losses)\n",
    "        gradients = tape.gradient(loss, model.trainable_variables)\n",
    "        # input layer does not count as a layer with trainable variables, so it is not considered\n",
    "        # when counting the layers for the purpose of applying optimizers to specific layers.\n",
    "        optimizer_lower.apply_gradients(zip(gradients[:-2], model.trainable_variables[:-2])) # layers 1 and 2\n",
    "        optimizer_upper.apply_gradients(zip(gradients[-2:], model.trainable_variables[-2:])) # layers 3 and 4\n",
    "        mean_loss(loss)\n",
    "        \n",
    "        for metric in metrics:\n",
    "            metric.update_state(y_batch, y_pred)\n",
    "        \n",
    "        if (step == n_steps):\n",
    "            y_val_pred = model(val_images)\n",
    "            val_loss = tf.reduce_mean(loss_fn(val_labels, y_val_pred))\n",
    "            val_acc = keras.metrics.categorical_accuracy(val_labels, y_val_pred)\n",
    "            val_acc_mean = tf.reduce_mean(val_acc)  # Compute mean accuracy\n",
    "            print_status_bar(n_steps, n_steps, mean_loss, metrics)\n",
    "            print(\"Validation loss: {:.4f} - Validation accuracy: {:.4f}\".format(val_loss.numpy(), val_acc_mean.numpy()))\n",
    "        else:\n",
    "            print_status_bar(step, n_steps, mean_loss, metrics)\n",
    "    \n",
    "    \n",
    "\n",
    "    for metric in [mean_loss] + metrics:\n",
    "        metric.reset_state()\n"
   ]
  }
 ],
 "metadata": {
  "kernelspec": {
   "display_name": "my_env",
   "language": "python",
   "name": "python3"
  },
  "language_info": {
   "codemirror_mode": {
    "name": "ipython",
    "version": 3
   },
   "file_extension": ".py",
   "mimetype": "text/x-python",
   "name": "python",
   "nbconvert_exporter": "python",
   "pygments_lexer": "ipython3",
   "version": "3.10.7"
  }
 },
 "nbformat": 4,
 "nbformat_minor": 2
}
