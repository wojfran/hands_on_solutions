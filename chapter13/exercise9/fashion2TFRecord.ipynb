{
 "cells": [
  {
   "cell_type": "code",
   "execution_count": 1,
   "metadata": {},
   "outputs": [],
   "source": [
    "import tensorflow as tf \n",
    "from tensorflow import keras\n",
    "import numpy as np\n",
    "import matplotlib.pyplot as plt\n",
    "from sklearn.model_selection import train_test_split\n",
    "from sklearn.discriminant_analysis import StandardScaler\n",
    "import tensorflow_datasets as tfds\n",
    "import os\n",
    "import contextlib\n",
    "import time"
   ]
  },
  {
   "cell_type": "code",
   "execution_count": 2,
   "metadata": {},
   "outputs": [],
   "source": [
    "def convert_to_example_protobuf(image, label):\n",
    "    return tf.train.Example(features=tf.train.Features(feature={\n",
    "        'image': tf.train.Feature(bytes_list=tf.train.BytesList(value=[tf.io.serialize_tensor(image).numpy()])),\n",
    "        'label': tf.train.Feature(int64_list=tf.train.Int64List(value=[label.numpy()]))\n",
    "    }))\n",
    "\n",
    "def write_multiple_tfrecords(folder, prefix, dataset, n_shards):\n",
    "    os.makedirs(folder, exist_ok=True)\n",
    "    paths = [f'{folder}/{prefix}-{i:03d}-of-{n_shards:03d}' for i in range(n_shards)]\n",
    "    with contextlib.ExitStack() as stack:\n",
    "        writers = [stack.enter_context(tf.io.TFRecordWriter(path)) for path in paths]\n",
    "        for index, (image, label) in enumerate(dataset):\n",
    "            shard = index % n_shards\n",
    "            example = convert_to_example_protobuf(image, label)\n",
    "            writers[shard].write(example.SerializeToString())\n",
    "    return paths"
   ]
  },
  {
   "cell_type": "code",
   "execution_count": 3,
   "metadata": {},
   "outputs": [],
   "source": [
    "(train_images, train_labels), (test_images, test_labels) = keras.datasets.fashion_mnist.load_data()\n",
    "train_images, val_images, train_labels, val_labels = train_test_split(train_images, train_labels, test_size=0.2, random_state=42)\n",
    "\n",
    "training_set = tf.data.Dataset.from_tensor_slices((train_images, train_labels)).shuffle(buffer_size=len(train_images))\n",
    "validation_set = tf.data.Dataset.from_tensor_slices((val_images, val_labels))\n",
    "test_set = tf.data.Dataset.from_tensor_slices((test_images, test_labels))\n",
    "\n",
    "train_filepaths = write_multiple_tfrecords('fashion_mnist_tfrecords', 'train', training_set, 10)\n",
    "validation_filepaths = write_multiple_tfrecords('fashion_mnist_tfrecords', 'valid', validation_set, 10)\n",
    "test_filepaths = write_multiple_tfrecords('fashion_mnist_tfrecords', 'test', test_set, 10)"
   ]
  },
  {
   "cell_type": "code",
   "execution_count": 4,
   "metadata": {},
   "outputs": [],
   "source": [
    "def preprocess(tfrecord):\n",
    "    feature_descriptions = {\n",
    "        'image': tf.io.FixedLenFeature([], tf.string, default_value=''),\n",
    "        'label': tf.io.FixedLenFeature([], tf.int64, default_value=-1)\n",
    "    }\n",
    "    example = tf.io.parse_single_example(tfrecord, feature_descriptions)\n",
    "    image = tf.io.parse_tensor(example['image'], out_type=tf.uint8)\n",
    "    image = tf.reshape(image, shape=[28, 28, 1])\n",
    "    return image, example['label']\n",
    "\n",
    "def mnist_dataset(filepaths, n_read_threads=5, shuffle_buffer_size=None,\n",
    "                  n_parse_threads=5, batch_size=32, cache=True):\n",
    "    dataset = tf.data.TFRecordDataset(filepaths,\n",
    "                                      num_parallel_reads=n_read_threads)\n",
    "    if cache:\n",
    "        dataset = dataset.cache()\n",
    "    if shuffle_buffer_size:\n",
    "        dataset = dataset.shuffle(shuffle_buffer_size)\n",
    "    dataset = dataset.map(preprocess, num_parallel_calls=n_parse_threads)\n",
    "    dataset = dataset.batch(batch_size)\n",
    "    return dataset.prefetch(1)\n",
    "\n",
    "def get_log_path():\n",
    "    root_logdir = os.path.join(os.curdir, \"my_logs\")\n",
    "    run_id = time.strftime(\"run_%Y_%m_%d-%H_%M\")\n",
    "    return os.path.join(root_logdir, run_id)"
   ]
  },
  {
   "cell_type": "code",
   "execution_count": 5,
   "metadata": {},
   "outputs": [],
   "source": [
    "train_set = mnist_dataset(train_filepaths, shuffle_buffer_size=60000)\n",
    "valid_set = mnist_dataset(validation_filepaths)\n",
    "test_set = mnist_dataset(test_filepaths)"
   ]
  },
  {
   "cell_type": "code",
   "execution_count": 10,
   "metadata": {},
   "outputs": [],
   "source": [
    "learning_rate=3e-3\n",
    "input_shape=(28, 28, 1)\n",
    "l2_lambda=0.01\n",
    "\n",
    "\n",
    "normalization = keras.layers.Normalization(input_shape=(28, 28, 1))\n",
    "normalization.adapt(train_set.map(lambda image, label: image))\n",
    "\n",
    "model = keras.models.Sequential([\n",
    "        keras.layers.InputLayer(shape=input_shape),\n",
    "        normalization,\n",
    "\n",
    "        keras.layers.Conv2D(16, (3, 3), kernel_regularizer=keras.regularizers.l2(l2_lambda), \n",
    "                            kernel_initializer=\"he_normal\"),\n",
    "        keras.layers.BatchNormalization(),\n",
    "        keras.layers.Activation(\"elu\"),\n",
    "\n",
    "        keras.layers.Conv2D(32, (3, 3), kernel_regularizer=keras.regularizers.l2(l2_lambda), \n",
    "                            kernel_initializer=\"he_normal\"),\n",
    "        keras.layers.BatchNormalization(),\n",
    "        keras.layers.Activation(\"elu\"),\n",
    "        keras.layers.MaxPooling2D(pool_size=(2, 2)),\n",
    "        keras.layers.Dropout(0.3),\n",
    "\n",
    "        keras.layers.Conv2D(64, (3, 3), kernel_regularizer=keras.regularizers.l2(l2_lambda), \n",
    "                            kernel_initializer=\"he_normal\"),\n",
    "        keras.layers.BatchNormalization(),\n",
    "        keras.layers.Activation(\"elu\"),\n",
    "        keras.layers.MaxPooling2D(pool_size=(2, 2)),\n",
    "        keras.layers.Dropout(0.4),\n",
    "\n",
    "        keras.layers.Conv2D(128, (3, 3), kernel_regularizer=keras.regularizers.l2(l2_lambda),\n",
    "                            kernel_initializer=\"he_normal\"),\n",
    "        keras.layers.BatchNormalization(),\n",
    "        keras.layers.Activation(\"elu\"),\n",
    "        keras.layers.GlobalAveragePooling2D(),\n",
    "        keras.layers.Dropout(0.5),\n",
    "        \n",
    "        keras.layers.Dense(10, activation=\"softmax\", kernel_regularizer=keras.regularizers.l2(l2_lambda))\n",
    "    ])\n",
    "\n",
    "optimizer = keras.optimizers.Nadam(learning_rate=learning_rate)\n",
    "model.compile(loss=\"sparse_categorical_crossentropy\", optimizer=optimizer, metrics=['accuracy'])"
   ]
  },
  {
   "cell_type": "code",
   "execution_count": 8,
   "metadata": {},
   "outputs": [],
   "source": [
    "tensorboard_cb = keras.callbacks.TensorBoard(get_log_path())\n",
    "early_stopping_cb = keras.callbacks.EarlyStopping(patience=10, restore_best_weights=True)\n",
    "lr_scheduler = keras.callbacks.ReduceLROnPlateau(factor=0.5, patience=5)\n",
    "\n",
    "# model.fit(train_set, epochs=100, validation_data=valid_set, callbacks=[tensorboard_cb, early_stopping_cb, lr_scheduler])\n",
    "\n",
    "# model.save(\"fashion_mnist_model.h5\")\n",
    "# model.save(\"fashion_mnist_model.keras\")"
   ]
  },
  {
   "cell_type": "code",
   "execution_count": 13,
   "metadata": {},
   "outputs": [
    {
     "name": "stdout",
     "output_type": "stream",
     "text": [
      "\u001b[1m313/313\u001b[0m \u001b[32m━━━━━━━━━━━━━━━━━━━━\u001b[0m\u001b[37m\u001b[0m \u001b[1m2s\u001b[0m 5ms/step - accuracy: 0.9092 - loss: 0.3291\n"
     ]
    },
    {
     "data": {
      "text/plain": [
       "[0.3311062157154083, 0.9053000211715698]"
      ]
     },
     "execution_count": 13,
     "metadata": {},
     "output_type": "execute_result"
    }
   ],
   "source": [
    "model = tf.keras.models.load_model(\"fashion_mnist_model.keras\", custom_objects={\"l2_lambda\": l2_lambda})\n",
    "\n",
    "model.evaluate(test_set)"
   ]
  }
 ],
 "metadata": {
  "kernelspec": {
   "display_name": "my_env",
   "language": "python",
   "name": "python3"
  },
  "language_info": {
   "codemirror_mode": {
    "name": "ipython",
    "version": 3
   },
   "file_extension": ".py",
   "mimetype": "text/x-python",
   "name": "python",
   "nbconvert_exporter": "python",
   "pygments_lexer": "ipython3",
   "version": "3.10.7"
  }
 },
 "nbformat": 4,
 "nbformat_minor": 2
}
