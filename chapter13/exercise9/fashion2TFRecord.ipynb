{
 "cells": [
  {
   "cell_type": "code",
   "execution_count": 41,
   "metadata": {},
   "outputs": [],
   "source": [
    "import tensorflow as tf \n",
    "from tensorflow import keras\n",
    "import numpy as np\n",
    "import matplotlib.pyplot as plt\n",
    "from sklearn.model_selection import train_test_split\n",
    "from sklearn.discriminant_analysis import StandardScaler\n",
    "import tensorflow_datasets as tfds\n",
    "import os\n",
    "import contextlib"
   ]
  },
  {
   "cell_type": "code",
   "execution_count": 42,
   "metadata": {},
   "outputs": [],
   "source": [
    "def convert_to_example_protobuf(image, label):\n",
    "    return tf.train.Example(features=tf.train.Features(feature={\n",
    "        'image': tf.train.Feature(bytes_list=tf.train.BytesList(value=[tf.io.serialize_tensor(image).numpy()])),\n",
    "        'label': tf.train.Feature(int64_list=tf.train.Int64List(value=[label.numpy()]))\n",
    "    }))\n",
    "\n",
    "def write_multiple_tfrecords(folder, prefix, dataset, n_shards):\n",
    "    os.makedirs(folder, exist_ok=True)\n",
    "    paths = [f'{folder}/{prefix}-{i:03d}-of-{n_shards:03d}' for i in range(n_shards)]\n",
    "    with contextlib.ExitStack() as stack:\n",
    "        writers = [stack.enter_context(tf.io.TFRecordWriter(path)) for path in paths]\n",
    "        for index, (image, label) in enumerate(dataset):\n",
    "            shard = index % n_shards\n",
    "            example = convert_to_example_protobuf(image, label)\n",
    "            writers[shard].write(example.SerializeToString())\n",
    "    return paths"
   ]
  },
  {
   "cell_type": "code",
   "execution_count": 43,
   "metadata": {},
   "outputs": [],
   "source": [
    "(train_images, train_labels), (test_images, test_labels) = keras.datasets.fashion_mnist.load_data()\n",
    "train_images, val_images, train_labels, val_labels = train_test_split(train_images, train_labels, test_size=0.2, random_state=42)\n",
    "\n",
    "training_set = tf.data.Dataset.from_tensor_slices((train_images, train_labels)).shuffle(buffer_size=len(train_images))\n",
    "validation_set = tf.data.Dataset.from_tensor_slices((val_images, val_labels))\n",
    "test_set = tf.data.Dataset.from_tensor_slices((test_images, test_labels))\n",
    "\n",
    "train_filepaths = write_multiple_tfrecords('fashion_mnist_tfrecords', 'train', training_set, 10)\n",
    "validation_filepaths = write_multiple_tfrecords('fashion_mnist_tfrecords', 'valid', validation_set, 10)\n",
    "test_filepaths = write_multiple_tfrecords('fashion_mnist_tfrecords', 'test', test_set, 10)\n"
   ]
  }
 ],
 "metadata": {
  "kernelspec": {
   "display_name": "my_env",
   "language": "python",
   "name": "python3"
  },
  "language_info": {
   "codemirror_mode": {
    "name": "ipython",
    "version": 3
   },
   "file_extension": ".py",
   "mimetype": "text/x-python",
   "name": "python",
   "nbconvert_exporter": "python",
   "pygments_lexer": "ipython3",
   "version": "3.10.7"
  }
 },
 "nbformat": 4,
 "nbformat_minor": 2
}
