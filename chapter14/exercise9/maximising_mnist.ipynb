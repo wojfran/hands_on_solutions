{
 "cells": [
  {
   "cell_type": "code",
   "execution_count": 16,
   "metadata": {},
   "outputs": [],
   "source": [
    "import tensorflow as tf \n",
    "from tensorflow import keras\n",
    "import numpy as np\n",
    "import os\n",
    "import time\n",
    "from pathlib import Path"
   ]
  },
  {
   "cell_type": "code",
   "execution_count": 17,
   "metadata": {},
   "outputs": [],
   "source": [
    "# load mnist\n",
    "mnist = keras.datasets.mnist\n",
    "(train_images, train_labels), (test_images, test_labels) = mnist.load_data()\n",
    "\n",
    "# normalize\n",
    "train_images = train_images / 255.0\n",
    "\n",
    "train_labels = tf.one_hot(train_labels, 10).numpy()\n",
    "test_labels = tf.one_hot(test_labels, 10).numpy()\n",
    "\n",
    "# split train and validation\n",
    "split_index = int(len(train_images) * 0.8)\n",
    "val_images = train_images[split_index:]\n",
    "val_labels = train_labels[split_index:]\n",
    "train_images = train_images[:split_index]\n",
    "train_labels = train_labels[:split_index]\n",
    "\n",
    "train_images = train_images[..., np.newaxis]\n",
    "val_images = val_images[..., np.newaxis]\n",
    "test_images = test_images[..., np.newaxis]\n"
   ]
  },
  {
   "cell_type": "code",
   "execution_count": 18,
   "metadata": {},
   "outputs": [],
   "source": [
    "def get_log_path():\n",
    "    root_logdir = os.path.join(os.curdir, \"my_logs\")\n",
    "    run_id = time.strftime(\"%Y_%m_%d-%H_%M\")\n",
    "    return os.path.join(root_logdir, run_id)\n",
    "\n",
    "def build_model(learning_rate=1e-3, l2_lambda=0.01, dropout_rate=0.3):\n",
    "    model = keras.models.Sequential([\n",
    "        keras.layers.Conv2D(32, (3, 3), kernel_regularizer=keras.regularizers.l2(l2_lambda), padding=\"same\"),\n",
    "        keras.layers.Activation(\"relu\"),\n",
    "        keras.layers.Conv2D(64, (3, 3), kernel_regularizer=keras.regularizers.l2(l2_lambda), padding=\"same\"),\n",
    "        keras.layers.Activation(\"relu\"),\n",
    "        keras.layers.MaxPooling2D(pool_size=(2, 2)),\n",
    "        keras.layers.Flatten(),\n",
    "        keras.layers.Dropout(dropout_rate/2),\n",
    "        keras.layers.Dense(128, kernel_regularizer=keras.regularizers.l2(l2_lambda)),\n",
    "        keras.layers.Activation(\"relu\"),\n",
    "        keras.layers.Dropout(dropout_rate),\n",
    "        keras.layers.Dense(10, activation=\"softmax\", kernel_regularizer=keras.regularizers.l2(l2_lambda))\n",
    "    ])\n",
    "\n",
    "    optimizer = keras.optimizers.Adam(learning_rate=learning_rate)\n",
    "    model.compile(loss=\"categorical_crossentropy\", optimizer=optimizer, metrics=['accuracy'])\n",
    "\n",
    "    return model"
   ]
  },
  {
   "cell_type": "code",
   "execution_count": 19,
   "metadata": {},
   "outputs": [
    {
     "name": "stdout",
     "output_type": "stream",
     "text": [
      "Epoch 1/100\n",
      "\u001b[1m750/750\u001b[0m \u001b[32m━━━━━━━━━━━━━━━━━━━━\u001b[0m\u001b[37m\u001b[0m \u001b[1m196s\u001b[0m 257ms/step - accuracy: 0.8964 - loss: 0.3313 - val_accuracy: 0.9861 - val_loss: 0.0481 - learning_rate: 0.0010\n",
      "Epoch 2/100\n",
      "\u001b[1m750/750\u001b[0m \u001b[32m━━━━━━━━━━━━━━━━━━━━\u001b[0m\u001b[37m\u001b[0m \u001b[1m265s\u001b[0m 354ms/step - accuracy: 0.9821 - loss: 0.0570 - val_accuracy: 0.9885 - val_loss: 0.0422 - learning_rate: 0.0010\n",
      "Epoch 3/100\n",
      "\u001b[1m750/750\u001b[0m \u001b[32m━━━━━━━━━━━━━━━━━━━━\u001b[0m\u001b[37m\u001b[0m \u001b[1m252s\u001b[0m 336ms/step - accuracy: 0.9871 - loss: 0.0398 - val_accuracy: 0.9893 - val_loss: 0.0404 - learning_rate: 0.0010\n",
      "Epoch 4/100\n",
      "\u001b[1m750/750\u001b[0m \u001b[32m━━━━━━━━━━━━━━━━━━━━\u001b[0m\u001b[37m\u001b[0m \u001b[1m240s\u001b[0m 320ms/step - accuracy: 0.9895 - loss: 0.0302 - val_accuracy: 0.9897 - val_loss: 0.0386 - learning_rate: 0.0010\n",
      "Epoch 5/100\n",
      "\u001b[1m750/750\u001b[0m \u001b[32m━━━━━━━━━━━━━━━━━━━━\u001b[0m\u001b[37m\u001b[0m \u001b[1m257s\u001b[0m 342ms/step - accuracy: 0.9931 - loss: 0.0233 - val_accuracy: 0.9877 - val_loss: 0.0486 - learning_rate: 0.0010\n",
      "Epoch 6/100\n",
      "\u001b[1m750/750\u001b[0m \u001b[32m━━━━━━━━━━━━━━━━━━━━\u001b[0m\u001b[37m\u001b[0m \u001b[1m244s\u001b[0m 326ms/step - accuracy: 0.9942 - loss: 0.0185 - val_accuracy: 0.9924 - val_loss: 0.0333 - learning_rate: 0.0010\n",
      "Epoch 7/100\n",
      "\u001b[1m750/750\u001b[0m \u001b[32m━━━━━━━━━━━━━━━━━━━━\u001b[0m\u001b[37m\u001b[0m \u001b[1m237s\u001b[0m 316ms/step - accuracy: 0.9956 - loss: 0.0131 - val_accuracy: 0.9906 - val_loss: 0.0355 - learning_rate: 0.0010\n",
      "Epoch 8/100\n",
      "\u001b[1m750/750\u001b[0m \u001b[32m━━━━━━━━━━━━━━━━━━━━\u001b[0m\u001b[37m\u001b[0m \u001b[1m233s\u001b[0m 310ms/step - accuracy: 0.9956 - loss: 0.0133 - val_accuracy: 0.9896 - val_loss: 0.0434 - learning_rate: 0.0010\n",
      "Epoch 9/100\n",
      "\u001b[1m750/750\u001b[0m \u001b[32m━━━━━━━━━━━━━━━━━━━━\u001b[0m\u001b[37m\u001b[0m \u001b[1m205s\u001b[0m 273ms/step - accuracy: 0.9964 - loss: 0.0104 - val_accuracy: 0.9904 - val_loss: 0.0441 - learning_rate: 0.0010\n",
      "Epoch 10/100\n",
      "\u001b[1m750/750\u001b[0m \u001b[32m━━━━━━━━━━━━━━━━━━━━\u001b[0m\u001b[37m\u001b[0m \u001b[1m229s\u001b[0m 305ms/step - accuracy: 0.9974 - loss: 0.0074 - val_accuracy: 0.9927 - val_loss: 0.0417 - learning_rate: 5.0000e-04\n",
      "Epoch 11/100\n",
      "\u001b[1m750/750\u001b[0m \u001b[32m━━━━━━━━━━━━━━━━━━━━\u001b[0m\u001b[37m\u001b[0m \u001b[1m229s\u001b[0m 305ms/step - accuracy: 0.9988 - loss: 0.0043 - val_accuracy: 0.9923 - val_loss: 0.0462 - learning_rate: 5.0000e-04\n",
      "\u001b[1m313/313\u001b[0m \u001b[32m━━━━━━━━━━━━━━━━━━━━\u001b[0m\u001b[37m\u001b[0m \u001b[1m16s\u001b[0m 49ms/step - accuracy: 0.9892 - loss: 8.5065\n",
      "c32_c64_c128_pooling_drop0.15_128_drop0.3 Accuracy: 0.9916999936103821 Loss: 7.3692240715026855\n"
     ]
    }
   ],
   "source": [
    "epochs = 100\n",
    "run_log_dir = get_log_path()\n",
    "learning_rate = 1e-3\n",
    "l2_reg = 0.00\n",
    "batch_size = 16\n",
    "early_stopping_patience = 5\n",
    "lr_scheduler_factor = 0.5\n",
    "lr_scheduler_patience = 3\n",
    "batch_size = 64\n",
    "\n",
    "model_name = \"c32_c64_pooling_drop0.15_128_drop0.3\"\n",
    "\n",
    "early_stopping_cb = keras.callbacks.EarlyStopping(patience=early_stopping_patience, restore_best_weights=True)\n",
    "lr_scheduler = keras.callbacks.ReduceLROnPlateau(factor=lr_scheduler_factor, patience=lr_scheduler_patience)\n",
    "\n",
    "run_log_dir = f\"{model_name}_{run_log_dir}\"\n",
    "\n",
    "tensorboard_cb = keras.callbacks.TensorBoard(run_log_dir)\n",
    "model = build_model(learning_rate=learning_rate, l2_lambda=l2_reg)\n",
    "model.fit(train_images, train_labels, epochs=epochs, validation_data=(val_images, val_labels), \n",
    "            callbacks=[keras.callbacks.TensorBoard(run_log_dir), early_stopping_cb, lr_scheduler], batch_size=batch_size)\n",
    "model.save(f\"{run_log_dir}/{model_name}.keras\")\n",
    "loss, acc = model.evaluate(test_images, test_labels)\n",
    "print(f\"{model_name} Accuracy: {acc} Loss: {loss}\")\n",
    "with open(f\"{run_log_dir}/results.txt\", \"a\") as f:\n",
    "    f.write(f\"{model_name} Accuracy: {acc} Loss: {loss}\\n\")"
   ]
  }
 ],
 "metadata": {
  "kernelspec": {
   "display_name": "my_env",
   "language": "python",
   "name": "python3"
  },
  "language_info": {
   "codemirror_mode": {
    "name": "ipython",
    "version": 3
   },
   "file_extension": ".py",
   "mimetype": "text/x-python",
   "name": "python",
   "nbconvert_exporter": "python",
   "pygments_lexer": "ipython3",
   "version": "3.10.7"
  }
 },
 "nbformat": 4,
 "nbformat_minor": 2
}
